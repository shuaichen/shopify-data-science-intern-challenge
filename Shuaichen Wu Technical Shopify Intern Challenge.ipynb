{
 "cells": [
  {
   "cell_type": "markdown",
   "id": "dfbecfba-5939-4714-9953-1581cbf5313a",
   "metadata": {},
   "source": [
    "## Fall 2022 Data Science Intern Challenge\n",
    "\n",
    "#### Shuaichen Wu"
   ]
  },
  {
   "cell_type": "markdown",
   "id": "c74f5d7e-a9b5-4bfc-9640-f09d6c156e4a",
   "metadata": {},
   "source": [
    "### Question 1: \n",
    "Given some sample data, write a program to answer the following:\n",
    "\n",
    "\n",
    "On Shopify, we have exactly 100 sneaker shops, and each of these shops sells only one model of shoe. We want to do some analysis of the average order value (AOV). When we look at orders data over a 30 day window, we naively calculate an AOV of $3145.13. Given that we know these shops are selling sneakers, a relatively affordable item, something seems wrong with our analysis. "
   ]
  },
  {
   "cell_type": "markdown",
   "id": "f52c8c6d-9c1f-4884-b280-31b750df84ce",
   "metadata": {},
   "source": [
    "### First I need to read in all of the data and perform EDA"
   ]
  },
  {
   "cell_type": "code",
   "execution_count": 1,
   "id": "3b61adb4-13dd-40df-8d19-62a3643e9e61",
   "metadata": {},
   "outputs": [],
   "source": [
    "import pandas as pd\n",
    "import matplotlib.pyplot as plt"
   ]
  },
  {
   "cell_type": "code",
   "execution_count": 2,
   "id": "45b08e7b-a137-451c-9d4e-41704afd5993",
   "metadata": {},
   "outputs": [],
   "source": [
    "import numpy as np\n",
    "import seaborn as sns"
   ]
  },
  {
   "cell_type": "code",
   "execution_count": 3,
   "id": "e297f57a-efa0-4285-9bc9-671c9f469e24",
   "metadata": {},
   "outputs": [],
   "source": [
    "df = pd.read_csv('2019 Winter Data Science Intern Challenge Data Set - Sheet1.csv')"
   ]
  },
  {
   "cell_type": "code",
   "execution_count": 4,
   "id": "991fa14e-03bf-4f59-a6b8-12bb9195a01c",
   "metadata": {},
   "outputs": [
    {
     "data": {
      "text/html": [
       "<div>\n",
       "<style scoped>\n",
       "    .dataframe tbody tr th:only-of-type {\n",
       "        vertical-align: middle;\n",
       "    }\n",
       "\n",
       "    .dataframe tbody tr th {\n",
       "        vertical-align: top;\n",
       "    }\n",
       "\n",
       "    .dataframe thead th {\n",
       "        text-align: right;\n",
       "    }\n",
       "</style>\n",
       "<table border=\"1\" class=\"dataframe\">\n",
       "  <thead>\n",
       "    <tr style=\"text-align: right;\">\n",
       "      <th></th>\n",
       "      <th>order_id</th>\n",
       "      <th>shop_id</th>\n",
       "      <th>user_id</th>\n",
       "      <th>order_amount</th>\n",
       "      <th>total_items</th>\n",
       "      <th>payment_method</th>\n",
       "      <th>created_at</th>\n",
       "    </tr>\n",
       "  </thead>\n",
       "  <tbody>\n",
       "    <tr>\n",
       "      <th>0</th>\n",
       "      <td>1</td>\n",
       "      <td>53</td>\n",
       "      <td>746</td>\n",
       "      <td>224</td>\n",
       "      <td>2</td>\n",
       "      <td>cash</td>\n",
       "      <td>2017-03-13 12:36:56</td>\n",
       "    </tr>\n",
       "    <tr>\n",
       "      <th>1</th>\n",
       "      <td>2</td>\n",
       "      <td>92</td>\n",
       "      <td>925</td>\n",
       "      <td>90</td>\n",
       "      <td>1</td>\n",
       "      <td>cash</td>\n",
       "      <td>2017-03-03 17:38:52</td>\n",
       "    </tr>\n",
       "    <tr>\n",
       "      <th>2</th>\n",
       "      <td>3</td>\n",
       "      <td>44</td>\n",
       "      <td>861</td>\n",
       "      <td>144</td>\n",
       "      <td>1</td>\n",
       "      <td>cash</td>\n",
       "      <td>2017-03-14 4:23:56</td>\n",
       "    </tr>\n",
       "    <tr>\n",
       "      <th>3</th>\n",
       "      <td>4</td>\n",
       "      <td>18</td>\n",
       "      <td>935</td>\n",
       "      <td>156</td>\n",
       "      <td>1</td>\n",
       "      <td>credit_card</td>\n",
       "      <td>2017-03-26 12:43:37</td>\n",
       "    </tr>\n",
       "    <tr>\n",
       "      <th>4</th>\n",
       "      <td>5</td>\n",
       "      <td>18</td>\n",
       "      <td>883</td>\n",
       "      <td>156</td>\n",
       "      <td>1</td>\n",
       "      <td>credit_card</td>\n",
       "      <td>2017-03-01 4:35:11</td>\n",
       "    </tr>\n",
       "  </tbody>\n",
       "</table>\n",
       "</div>"
      ],
      "text/plain": [
       "   order_id  shop_id  user_id  order_amount  total_items payment_method  \\\n",
       "0         1       53      746           224            2           cash   \n",
       "1         2       92      925            90            1           cash   \n",
       "2         3       44      861           144            1           cash   \n",
       "3         4       18      935           156            1    credit_card   \n",
       "4         5       18      883           156            1    credit_card   \n",
       "\n",
       "            created_at  \n",
       "0  2017-03-13 12:36:56  \n",
       "1  2017-03-03 17:38:52  \n",
       "2   2017-03-14 4:23:56  \n",
       "3  2017-03-26 12:43:37  \n",
       "4   2017-03-01 4:35:11  "
      ]
     },
     "execution_count": 4,
     "metadata": {},
     "output_type": "execute_result"
    }
   ],
   "source": [
    "df.head()"
   ]
  },
  {
   "cell_type": "code",
   "execution_count": 5,
   "id": "33182fdf-5e83-48f6-b89c-e391a3e5e9b7",
   "metadata": {},
   "outputs": [
    {
     "data": {
      "text/plain": [
       "(5000, 7)"
      ]
     },
     "execution_count": 5,
     "metadata": {},
     "output_type": "execute_result"
    }
   ],
   "source": [
    "df.shape"
   ]
  },
  {
   "cell_type": "markdown",
   "id": "7b83521e-a498-465c-a924-8e6c2f8f7fad",
   "metadata": {},
   "source": [
    "The dataset has 5000 rows and 7 columns.\n",
    "Each row represents an order.\n",
    "7 columns describe information about the order.\n",
    "\n",
    "    order_id : order id\n",
    "    shop_id : shop id \n",
    "    user_id : customer id\n",
    "    order_amount : the amount of value the customer paid the shop\n",
    "    total_item : the amount of items the customer bought from the shop.\n",
    "    payment_method : the method of payment\n",
    "    created_at : the date of the order"
   ]
  },
  {
   "cell_type": "code",
   "execution_count": 6,
   "id": "a249ab29-9fd4-40bd-93d5-65678632a977",
   "metadata": {},
   "outputs": [
    {
     "data": {
      "text/plain": [
       "0"
      ]
     },
     "execution_count": 6,
     "metadata": {},
     "output_type": "execute_result"
    }
   ],
   "source": [
    "#check if the dataset has duplicated rows\n",
    "df.duplicated().sum()"
   ]
  },
  {
   "cell_type": "code",
   "execution_count": 7,
   "id": "7a9eb341-36ce-45c6-9184-353ee6cad1d1",
   "metadata": {},
   "outputs": [
    {
     "data": {
      "text/plain": [
       "order_id          0\n",
       "shop_id           0\n",
       "user_id           0\n",
       "order_amount      0\n",
       "total_items       0\n",
       "payment_method    0\n",
       "created_at        0\n",
       "dtype: int64"
      ]
     },
     "execution_count": 7,
     "metadata": {},
     "output_type": "execute_result"
    }
   ],
   "source": [
    "#check if null value exist in the dataset\n",
    "df.isnull().sum()"
   ]
  },
  {
   "cell_type": "markdown",
   "id": "64a6183b-2cb6-440d-884d-7579469b2276",
   "metadata": {},
   "source": [
    "There are no duplicated rows and values in the dataset."
   ]
  },
  {
   "cell_type": "code",
   "execution_count": 8,
   "id": "85056cd7-1677-4e1a-a65c-265a5c421375",
   "metadata": {},
   "outputs": [
    {
     "name": "stdout",
     "output_type": "stream",
     "text": [
      "The earliest date of orders is 2017-03-01 0:08:09.\n"
     ]
    }
   ],
   "source": [
    "#check the range of dates of orders\n",
    "a = df['created_at'].min()\n",
    "print(f'The earliest date of orders is {a}.')"
   ]
  },
  {
   "cell_type": "code",
   "execution_count": 9,
   "id": "96aea9ad-003e-482c-b0dc-a5a2dd4567a4",
   "metadata": {},
   "outputs": [
    {
     "name": "stdout",
     "output_type": "stream",
     "text": [
      "The lastest date of orders is 2017-03-30 9:55:00.\n"
     ]
    }
   ],
   "source": [
    "a = df['created_at'].max()\n",
    "print(f'The lastest date of orders is {a}.')"
   ]
  },
  {
   "cell_type": "markdown",
   "id": "12c12976-12de-469b-88ee-c93c9e74e95a",
   "metadata": {},
   "source": [
    "The range of order dates is from 2017-03-01 to 2017-03-30. The dataset contains 30 days of orders."
   ]
  },
  {
   "cell_type": "markdown",
   "id": "6d239b28-a982-419a-bd71-c96d447bc804",
   "metadata": {},
   "source": [
    "Now I combine the information contained in the question.\n",
    "\n",
    "There are 100 snearker shops, and each shop sells only one model of shoe.\n",
    "An AOV over the 30 day window is $3145.13. "
   ]
  },
  {
   "cell_type": "code",
   "execution_count": 10,
   "id": "0f335fa4-03cf-41bc-be38-d675daa870fb",
   "metadata": {},
   "outputs": [
    {
     "data": {
      "text/plain": [
       "100"
      ]
     },
     "execution_count": 10,
     "metadata": {},
     "output_type": "execute_result"
    }
   ],
   "source": [
    "# Verify all the 100 shops are in the dataset.\n",
    "df['shop_id'].nunique()"
   ]
  },
  {
   "cell_type": "markdown",
   "id": "f65f4a74-1359-411b-ad6d-627b3a757257",
   "metadata": {},
   "source": [
    "The dataset has 100 sneaker shops."
   ]
  },
  {
   "cell_type": "code",
   "execution_count": 11,
   "id": "0b5de56f-9da7-414a-8b84-ce08935c95ec",
   "metadata": {},
   "outputs": [
    {
     "name": "stdout",
     "output_type": "stream",
     "text": [
      "The average order value is 3145.13.\n"
     ]
    }
   ],
   "source": [
    "# Verify the AOV(average order value)\n",
    "a = round(df['order_amount'].sum()/df['order_id'].nunique(),2)\n",
    "print(f'The average order value is {a}.')"
   ]
  },
  {
   "cell_type": "markdown",
   "id": "43566d7d-7d72-4414-9a7f-4a111305f4ca",
   "metadata": {},
   "source": [
    "##### a. Think about what could be going wrong with our calculation. Think about a better way to evaluate this data. "
   ]
  },
  {
   "cell_type": "markdown",
   "id": "dcaf1c0b-541c-4ab8-a1d9-27baac42f2f4",
   "metadata": {},
   "source": [
    "First I want to know the distribution of the order values."
   ]
  },
  {
   "cell_type": "code",
   "execution_count": 12,
   "id": "4fa4d19a-7ab5-42cc-9444-a1dfdde42b56",
   "metadata": {},
   "outputs": [
    {
     "data": {
      "image/png": "[encoded data removed]",
      "text/plain": [
       "<Figure size 720x720 with 1 Axes>"
      ]
     },
     "metadata": {
      "needs_background": "light"
     },
     "output_type": "display_data"
    }
   ],
   "source": [
    "plt.figure(figsize=(10,10))\n",
    "plt.hist(df['order_amount'])\n",
    "plt.xlabel('Order amount',size=20)\n",
    "plt.ylabel('Number of orders',size=20)\n",
    "plt.title('The distribution of order amount',size=20)\n",
    "plt.show()"
   ]
  },
  {
   "cell_type": "markdown",
   "id": "c46ae714-9ba3-492c-8803-df6ad48f9a38",
   "metadata": {},
   "source": [
    "Based on the diagram above, I know the order amounts are pretty skewed, and there are some big values that are around 100,000 and 700,000."
   ]
  },
  {
   "cell_type": "code",
   "execution_count": 13,
   "id": "4ad7c5d0-5781-4ecd-8479-4a111e663083",
   "metadata": {},
   "outputs": [
    {
     "data": {
      "text/plain": [
       "count      5000.000000\n",
       "mean       3145.128000\n",
       "std       41282.539349\n",
       "min          90.000000\n",
       "25%         163.000000\n",
       "50%         284.000000\n",
       "75%         390.000000\n",
       "max      704000.000000\n",
       "Name: order_amount, dtype: float64"
      ]
     },
     "execution_count": 13,
     "metadata": {},
     "output_type": "execute_result"
    }
   ],
   "source": [
    "df['order_amount'].describe()"
   ]
  },
  {
   "cell_type": "markdown",
   "id": "59638400-d709-495a-b978-efc4b01d7d14",
   "metadata": {},
   "source": [
    "The minmum value is 90, while the maximum value is 704,000.\n",
    "Also, the standard deviation of 41,282 shows the distribution is highly skewed from the mean value.\n",
    "So the naive mean value of order amount can't show the majority of orders value amount.\n",
    "\n",
    "There are two main possibilities that the maximum value is so high:\n",
    "\n",
    "1) There are some high-end sneaker shops.\n",
    "2) There are some orders that contain a lot of items."
   ]
  },
  {
   "cell_type": "markdown",
   "id": "ddbe430e-152e-4bea-a6c2-30497ee35e0e",
   "metadata": {},
   "source": [
    "For the first situation, since each shop sells one model of shoes, I can get the estimated value of a single pair of shoes for every shop."
   ]
  },
  {
   "cell_type": "code",
   "execution_count": 14,
   "id": "b54ed49e-21cd-4a3d-a6b4-599134be18f4",
   "metadata": {},
   "outputs": [],
   "source": [
    "#get the unit value of shoes\n",
    "df['item_value']=df['order_amount']/df['total_items']"
   ]
  },
  {
   "cell_type": "code",
   "execution_count": 15,
   "id": "d12d535a-135b-4d66-beef-d9aadc2c42d5",
   "metadata": {},
   "outputs": [
    {
     "data": {
      "text/html": [
       "<div>\n",
       "<style scoped>\n",
       "    .dataframe tbody tr th:only-of-type {\n",
       "        vertical-align: middle;\n",
       "    }\n",
       "\n",
       "    .dataframe tbody tr th {\n",
       "        vertical-align: top;\n",
       "    }\n",
       "\n",
       "    .dataframe thead th {\n",
       "        text-align: right;\n",
       "    }\n",
       "</style>\n",
       "<table border=\"1\" class=\"dataframe\">\n",
       "  <thead>\n",
       "    <tr style=\"text-align: right;\">\n",
       "      <th></th>\n",
       "      <th>order_id</th>\n",
       "      <th>shop_id</th>\n",
       "      <th>user_id</th>\n",
       "      <th>order_amount</th>\n",
       "      <th>total_items</th>\n",
       "      <th>payment_method</th>\n",
       "      <th>created_at</th>\n",
       "      <th>item_value</th>\n",
       "    </tr>\n",
       "  </thead>\n",
       "  <tbody>\n",
       "    <tr>\n",
       "      <th>0</th>\n",
       "      <td>1</td>\n",
       "      <td>53</td>\n",
       "      <td>746</td>\n",
       "      <td>224</td>\n",
       "      <td>2</td>\n",
       "      <td>cash</td>\n",
       "      <td>2017-03-13 12:36:56</td>\n",
       "      <td>112.0</td>\n",
       "    </tr>\n",
       "    <tr>\n",
       "      <th>1</th>\n",
       "      <td>2</td>\n",
       "      <td>92</td>\n",
       "      <td>925</td>\n",
       "      <td>90</td>\n",
       "      <td>1</td>\n",
       "      <td>cash</td>\n",
       "      <td>2017-03-03 17:38:52</td>\n",
       "      <td>90.0</td>\n",
       "    </tr>\n",
       "    <tr>\n",
       "      <th>2</th>\n",
       "      <td>3</td>\n",
       "      <td>44</td>\n",
       "      <td>861</td>\n",
       "      <td>144</td>\n",
       "      <td>1</td>\n",
       "      <td>cash</td>\n",
       "      <td>2017-03-14 4:23:56</td>\n",
       "      <td>144.0</td>\n",
       "    </tr>\n",
       "    <tr>\n",
       "      <th>3</th>\n",
       "      <td>4</td>\n",
       "      <td>18</td>\n",
       "      <td>935</td>\n",
       "      <td>156</td>\n",
       "      <td>1</td>\n",
       "      <td>credit_card</td>\n",
       "      <td>2017-03-26 12:43:37</td>\n",
       "      <td>156.0</td>\n",
       "    </tr>\n",
       "    <tr>\n",
       "      <th>4</th>\n",
       "      <td>5</td>\n",
       "      <td>18</td>\n",
       "      <td>883</td>\n",
       "      <td>156</td>\n",
       "      <td>1</td>\n",
       "      <td>credit_card</td>\n",
       "      <td>2017-03-01 4:35:11</td>\n",
       "      <td>156.0</td>\n",
       "    </tr>\n",
       "  </tbody>\n",
       "</table>\n",
       "</div>"
      ],
      "text/plain": [
       "   order_id  shop_id  user_id  order_amount  total_items payment_method  \\\n",
       "0         1       53      746           224            2           cash   \n",
       "1         2       92      925            90            1           cash   \n",
       "2         3       44      861           144            1           cash   \n",
       "3         4       18      935           156            1    credit_card   \n",
       "4         5       18      883           156            1    credit_card   \n",
       "\n",
       "            created_at  item_value  \n",
       "0  2017-03-13 12:36:56       112.0  \n",
       "1  2017-03-03 17:38:52        90.0  \n",
       "2   2017-03-14 4:23:56       144.0  \n",
       "3  2017-03-26 12:43:37       156.0  \n",
       "4   2017-03-01 4:35:11       156.0  "
      ]
     },
     "execution_count": 15,
     "metadata": {},
     "output_type": "execute_result"
    }
   ],
   "source": [
    "#verify I added the item_value column in the dataset\n",
    "df.head()"
   ]
  },
  {
   "cell_type": "code",
   "execution_count": 16,
   "id": "489f436e-e4d1-40a1-8e78-73bb258eb517",
   "metadata": {},
   "outputs": [],
   "source": [
    "item_values=df.groupby('shop_id')['item_value'].mean()\n",
    "item_values=item_values.reset_index()"
   ]
  },
  {
   "cell_type": "code",
   "execution_count": 17,
   "id": "f11cec12-27b1-4ae8-8720-c9b535bf05db",
   "metadata": {},
   "outputs": [
    {
     "data": {
      "text/plain": [
       "count      100.000000\n",
       "mean       407.990000\n",
       "std       2557.462906\n",
       "min         90.000000\n",
       "25%        132.750000\n",
       "50%        153.000000\n",
       "75%        168.250000\n",
       "max      25725.000000\n",
       "Name: item_value, dtype: float64"
      ]
     },
     "execution_count": 17,
     "metadata": {},
     "output_type": "execute_result"
    }
   ],
   "source": [
    "item_values['item_value'].describe()"
   ]
  },
  {
   "cell_type": "markdown",
   "id": "8dd2d3f6-587c-49f4-b977-92477c9090de",
   "metadata": {},
   "source": [
    "The maximum value of a pair of sneaker shoes is 25725, while the mean value is 407 and the median value is 153."
   ]
  },
  {
   "cell_type": "code",
   "execution_count": 18,
   "id": "ae5ecdea-6de9-4730-874f-e0a0b7484197",
   "metadata": {},
   "outputs": [
    {
     "data": {
      "text/plain": [
       "605.7300000001298"
      ]
     },
     "execution_count": 18,
     "metadata": {},
     "output_type": "execute_result"
    }
   ],
   "source": [
    "#check the 99th percentile value\n",
    "item_values['item_value'].quantile(0.99)"
   ]
  },
  {
   "cell_type": "markdown",
   "id": "4105db54-21bb-4be0-a8cf-3f1a974bfa86",
   "metadata": {},
   "source": [
    "99% of sneakers are lower than 605."
   ]
  },
  {
   "cell_type": "code",
   "execution_count": 19,
   "id": "53628be3-31d4-4557-956a-b6d9ce0ac250",
   "metadata": {},
   "outputs": [],
   "source": [
    "#get the id of the shop that sells sneakers that higher than 605\n",
    "idx = np.where(item_values['item_value'] > 605)[0].tolist()"
   ]
  },
  {
   "cell_type": "code",
   "execution_count": 20,
   "id": "0ec1979e-67bc-4623-b518-dfe011d85c91",
   "metadata": {},
   "outputs": [
    {
     "data": {
      "text/plain": [
       "[77]"
      ]
     },
     "execution_count": 20,
     "metadata": {},
     "output_type": "execute_result"
    }
   ],
   "source": [
    "idx"
   ]
  },
  {
   "cell_type": "code",
   "execution_count": 21,
   "id": "f99ac01d-53dd-4b26-8856-1ec424deecc7",
   "metadata": {},
   "outputs": [
    {
     "data": {
      "text/html": [
       "<div>\n",
       "<style scoped>\n",
       "    .dataframe tbody tr th:only-of-type {\n",
       "        vertical-align: middle;\n",
       "    }\n",
       "\n",
       "    .dataframe tbody tr th {\n",
       "        vertical-align: top;\n",
       "    }\n",
       "\n",
       "    .dataframe thead th {\n",
       "        text-align: right;\n",
       "    }\n",
       "</style>\n",
       "<table border=\"1\" class=\"dataframe\">\n",
       "  <thead>\n",
       "    <tr style=\"text-align: right;\">\n",
       "      <th></th>\n",
       "      <th>shop_id</th>\n",
       "      <th>item_value</th>\n",
       "    </tr>\n",
       "  </thead>\n",
       "  <tbody>\n",
       "    <tr>\n",
       "      <th>77</th>\n",
       "      <td>78</td>\n",
       "      <td>25725.0</td>\n",
       "    </tr>\n",
       "  </tbody>\n",
       "</table>\n",
       "</div>"
      ],
      "text/plain": [
       "    shop_id  item_value\n",
       "77       78     25725.0"
      ]
     },
     "execution_count": 21,
     "metadata": {},
     "output_type": "execute_result"
    }
   ],
   "source": [
    "item_values.iloc[idx]"
   ]
  },
  {
   "cell_type": "markdown",
   "id": "9adef4f2-9f8f-4818-89cd-aad069364dff",
   "metadata": {},
   "source": [
    "There is only one shop that sells sneakers with a price higher than 605. The shop id is 78 with a sneaker price of \\$25,725.\n",
    "\n",
    "Because of shop 78, the average order value gets highly skewed.\n",
    "\n",
    "We now do some further analysis of shop 78."
   ]
  },
  {
   "cell_type": "code",
   "execution_count": 22,
   "id": "497e1ff3-b361-4e0c-9f3b-b366a3c7af39",
   "metadata": {},
   "outputs": [],
   "source": [
    "#get the number of sales in 30 days in shop 78.\n",
    "shop_78_orders = df[df['shop_id']==78]['order_id'].count()"
   ]
  },
  {
   "cell_type": "code",
   "execution_count": 23,
   "id": "5f359562-ab47-49c0-9393-ac56723ad3f9",
   "metadata": {},
   "outputs": [],
   "source": [
    "#get the total amount value of sales in shop 78\n",
    "shop_78 = df[df['shop_id']==78]['order_amount'].sum()"
   ]
  },
  {
   "cell_type": "code",
   "execution_count": 24,
   "id": "29bbaae9-cc07-4d7a-af56-29ec0abc9e6e",
   "metadata": {},
   "outputs": [
    {
     "data": {
      "text/plain": [
       "49213.04347826087"
      ]
     },
     "execution_count": 24,
     "metadata": {},
     "output_type": "execute_result"
    }
   ],
   "source": [
    "# get the average order value for all the orders in shop 78\n",
    "shop_78/shop_78_orders"
   ]
  },
  {
   "cell_type": "code",
   "execution_count": 25,
   "id": "3d71ebdd-2bd7-4d36-bd52-70e60b0c5cb3",
   "metadata": {},
   "outputs": [
    {
     "data": {
      "text/plain": [
       "0.1439559852571978"
      ]
     },
     "execution_count": 25,
     "metadata": {},
     "output_type": "execute_result"
    }
   ],
   "source": [
    "#get the percentagethe total sales that shop 78 comprises\n",
    "shop_78/df['order_amount'].sum()"
   ]
  },
  {
   "cell_type": "markdown",
   "id": "65050e1b-918f-440e-a0d9-65b4b5b1381c",
   "metadata": {},
   "source": [
    "Shop 78 comprises 14% of the total sales amount due to the high price of their shoes, which will highly skew average price. So, using median as a metric will be more appropriate.\n"
   ]
  },
  {
   "cell_type": "markdown",
   "id": "35c7c0e5-57d9-4541-9030-1775702a5a66",
   "metadata": {},
   "source": [
    "For the second situation, I hypothesize that some orders contain a lot of items. I get the distribution of the total items first:"
   ]
  },
  {
   "cell_type": "code",
   "execution_count": 26,
   "id": "52a907ca-da3e-48ca-9a57-c841dfbb0849",
   "metadata": {},
   "outputs": [
    {
     "data": {
      "text/plain": [
       "count    5000.00000\n",
       "mean        8.78720\n",
       "std       116.32032\n",
       "min         1.00000\n",
       "25%         1.00000\n",
       "50%         2.00000\n",
       "75%         3.00000\n",
       "max      2000.00000\n",
       "Name: total_items, dtype: float64"
      ]
     },
     "execution_count": 26,
     "metadata": {},
     "output_type": "execute_result"
    }
   ],
   "source": [
    "df['total_items'].describe()"
   ]
  },
  {
   "cell_type": "markdown",
   "id": "1ecfd09e-d559-48dd-8a31-6ae8043d7d04",
   "metadata": {},
   "source": [
    "The table comfirmed my assumption, there is at least one order that contains 2000 sneakers."
   ]
  },
  {
   "cell_type": "code",
   "execution_count": 27,
   "id": "c74035dc-8890-43bc-8298-82ad187ea340",
   "metadata": {},
   "outputs": [
    {
     "data": {
      "text/plain": [
       "5.0"
      ]
     },
     "execution_count": 27,
     "metadata": {},
     "output_type": "execute_result"
    }
   ],
   "source": [
    "#get the 99th percentile of items\n",
    "df['total_items'].quantile(0.99)"
   ]
  },
  {
   "cell_type": "markdown",
   "id": "e70f3a4e-ac71-4179-ade2-0bc281758743",
   "metadata": {},
   "source": [
    "It shows there are 99% of orders that have less or equal to 5 pair of sneakers."
   ]
  },
  {
   "cell_type": "code",
   "execution_count": 28,
   "id": "d3cc03d5-4d77-4634-af83-3bc0911d6fa8",
   "metadata": {},
   "outputs": [
    {
     "data": {
      "text/plain": [
       "8"
      ]
     },
     "execution_count": 28,
     "metadata": {},
     "output_type": "execute_result"
    }
   ],
   "source": [
    "#get unique number of items number in an order.\n",
    "df['total_items'].nunique()"
   ]
  },
  {
   "cell_type": "code",
   "execution_count": 29,
   "id": "c843be0d-39e1-4094-be51-aef4a306bc92",
   "metadata": {},
   "outputs": [
    {
     "data": {
      "text/html": [
       "<div>\n",
       "<style scoped>\n",
       "    .dataframe tbody tr th:only-of-type {\n",
       "        vertical-align: middle;\n",
       "    }\n",
       "\n",
       "    .dataframe tbody tr th {\n",
       "        vertical-align: top;\n",
       "    }\n",
       "\n",
       "    .dataframe thead th {\n",
       "        text-align: right;\n",
       "    }\n",
       "</style>\n",
       "<table border=\"1\" class=\"dataframe\">\n",
       "  <thead>\n",
       "    <tr style=\"text-align: right;\">\n",
       "      <th></th>\n",
       "      <th>total_items</th>\n",
       "      <th>numbers of orders</th>\n",
       "    </tr>\n",
       "  </thead>\n",
       "  <tbody>\n",
       "    <tr>\n",
       "      <th>0</th>\n",
       "      <td>1</td>\n",
       "      <td>1830</td>\n",
       "    </tr>\n",
       "    <tr>\n",
       "      <th>1</th>\n",
       "      <td>2</td>\n",
       "      <td>1832</td>\n",
       "    </tr>\n",
       "    <tr>\n",
       "      <th>2</th>\n",
       "      <td>3</td>\n",
       "      <td>941</td>\n",
       "    </tr>\n",
       "    <tr>\n",
       "      <th>3</th>\n",
       "      <td>4</td>\n",
       "      <td>293</td>\n",
       "    </tr>\n",
       "    <tr>\n",
       "      <th>4</th>\n",
       "      <td>5</td>\n",
       "      <td>77</td>\n",
       "    </tr>\n",
       "    <tr>\n",
       "      <th>5</th>\n",
       "      <td>6</td>\n",
       "      <td>9</td>\n",
       "    </tr>\n",
       "    <tr>\n",
       "      <th>6</th>\n",
       "      <td>8</td>\n",
       "      <td>1</td>\n",
       "    </tr>\n",
       "    <tr>\n",
       "      <th>7</th>\n",
       "      <td>2000</td>\n",
       "      <td>17</td>\n",
       "    </tr>\n",
       "  </tbody>\n",
       "</table>\n",
       "</div>"
      ],
      "text/plain": [
       "   total_items  numbers of orders\n",
       "0            1               1830\n",
       "1            2               1832\n",
       "2            3                941\n",
       "3            4                293\n",
       "4            5                 77\n",
       "5            6                  9\n",
       "6            8                  1\n",
       "7         2000                 17"
      ]
     },
     "execution_count": 29,
     "metadata": {},
     "output_type": "execute_result"
    }
   ],
   "source": [
    "df.groupby('total_items').size().reset_index().rename(columns={0:'numbers of orders'})"
   ]
  },
  {
   "cell_type": "markdown",
   "id": "34f99d38-56a7-4a32-a480-f1f6cc1ce9a2",
   "metadata": {},
   "source": [
    "Based on the table above, I know there are 17 orders that have 2000 sneakers. Also there is one order that has 8 sneakers."
   ]
  },
  {
   "cell_type": "code",
   "execution_count": 30,
   "id": "791a4e4f-fd16-4ead-bcf6-fc6f2c751e3b",
   "metadata": {},
   "outputs": [
    {
     "data": {
      "text/html": [
       "<div>\n",
       "<style scoped>\n",
       "    .dataframe tbody tr th:only-of-type {\n",
       "        vertical-align: middle;\n",
       "    }\n",
       "\n",
       "    .dataframe tbody tr th {\n",
       "        vertical-align: top;\n",
       "    }\n",
       "\n",
       "    .dataframe thead th {\n",
       "        text-align: right;\n",
       "    }\n",
       "</style>\n",
       "<table border=\"1\" class=\"dataframe\">\n",
       "  <thead>\n",
       "    <tr style=\"text-align: right;\">\n",
       "      <th></th>\n",
       "      <th>order_id</th>\n",
       "      <th>shop_id</th>\n",
       "      <th>user_id</th>\n",
       "      <th>order_amount</th>\n",
       "      <th>total_items</th>\n",
       "      <th>payment_method</th>\n",
       "      <th>created_at</th>\n",
       "      <th>item_value</th>\n",
       "    </tr>\n",
       "  </thead>\n",
       "  <tbody>\n",
       "    <tr>\n",
       "      <th>15</th>\n",
       "      <td>16</td>\n",
       "      <td>42</td>\n",
       "      <td>607</td>\n",
       "      <td>704000</td>\n",
       "      <td>2000</td>\n",
       "      <td>credit_card</td>\n",
       "      <td>2017-03-07 4:00:00</td>\n",
       "      <td>352.0</td>\n",
       "    </tr>\n",
       "    <tr>\n",
       "      <th>60</th>\n",
       "      <td>61</td>\n",
       "      <td>42</td>\n",
       "      <td>607</td>\n",
       "      <td>704000</td>\n",
       "      <td>2000</td>\n",
       "      <td>credit_card</td>\n",
       "      <td>2017-03-04 4:00:00</td>\n",
       "      <td>352.0</td>\n",
       "    </tr>\n",
       "    <tr>\n",
       "      <th>520</th>\n",
       "      <td>521</td>\n",
       "      <td>42</td>\n",
       "      <td>607</td>\n",
       "      <td>704000</td>\n",
       "      <td>2000</td>\n",
       "      <td>credit_card</td>\n",
       "      <td>2017-03-02 4:00:00</td>\n",
       "      <td>352.0</td>\n",
       "    </tr>\n",
       "    <tr>\n",
       "      <th>1104</th>\n",
       "      <td>1105</td>\n",
       "      <td>42</td>\n",
       "      <td>607</td>\n",
       "      <td>704000</td>\n",
       "      <td>2000</td>\n",
       "      <td>credit_card</td>\n",
       "      <td>2017-03-24 4:00:00</td>\n",
       "      <td>352.0</td>\n",
       "    </tr>\n",
       "    <tr>\n",
       "      <th>1362</th>\n",
       "      <td>1363</td>\n",
       "      <td>42</td>\n",
       "      <td>607</td>\n",
       "      <td>704000</td>\n",
       "      <td>2000</td>\n",
       "      <td>credit_card</td>\n",
       "      <td>2017-03-15 4:00:00</td>\n",
       "      <td>352.0</td>\n",
       "    </tr>\n",
       "    <tr>\n",
       "      <th>1436</th>\n",
       "      <td>1437</td>\n",
       "      <td>42</td>\n",
       "      <td>607</td>\n",
       "      <td>704000</td>\n",
       "      <td>2000</td>\n",
       "      <td>credit_card</td>\n",
       "      <td>2017-03-11 4:00:00</td>\n",
       "      <td>352.0</td>\n",
       "    </tr>\n",
       "    <tr>\n",
       "      <th>1562</th>\n",
       "      <td>1563</td>\n",
       "      <td>42</td>\n",
       "      <td>607</td>\n",
       "      <td>704000</td>\n",
       "      <td>2000</td>\n",
       "      <td>credit_card</td>\n",
       "      <td>2017-03-19 4:00:00</td>\n",
       "      <td>352.0</td>\n",
       "    </tr>\n",
       "    <tr>\n",
       "      <th>1602</th>\n",
       "      <td>1603</td>\n",
       "      <td>42</td>\n",
       "      <td>607</td>\n",
       "      <td>704000</td>\n",
       "      <td>2000</td>\n",
       "      <td>credit_card</td>\n",
       "      <td>2017-03-17 4:00:00</td>\n",
       "      <td>352.0</td>\n",
       "    </tr>\n",
       "    <tr>\n",
       "      <th>2153</th>\n",
       "      <td>2154</td>\n",
       "      <td>42</td>\n",
       "      <td>607</td>\n",
       "      <td>704000</td>\n",
       "      <td>2000</td>\n",
       "      <td>credit_card</td>\n",
       "      <td>2017-03-12 4:00:00</td>\n",
       "      <td>352.0</td>\n",
       "    </tr>\n",
       "    <tr>\n",
       "      <th>2297</th>\n",
       "      <td>2298</td>\n",
       "      <td>42</td>\n",
       "      <td>607</td>\n",
       "      <td>704000</td>\n",
       "      <td>2000</td>\n",
       "      <td>credit_card</td>\n",
       "      <td>2017-03-07 4:00:00</td>\n",
       "      <td>352.0</td>\n",
       "    </tr>\n",
       "    <tr>\n",
       "      <th>2835</th>\n",
       "      <td>2836</td>\n",
       "      <td>42</td>\n",
       "      <td>607</td>\n",
       "      <td>704000</td>\n",
       "      <td>2000</td>\n",
       "      <td>credit_card</td>\n",
       "      <td>2017-03-28 4:00:00</td>\n",
       "      <td>352.0</td>\n",
       "    </tr>\n",
       "    <tr>\n",
       "      <th>2969</th>\n",
       "      <td>2970</td>\n",
       "      <td>42</td>\n",
       "      <td>607</td>\n",
       "      <td>704000</td>\n",
       "      <td>2000</td>\n",
       "      <td>credit_card</td>\n",
       "      <td>2017-03-28 4:00:00</td>\n",
       "      <td>352.0</td>\n",
       "    </tr>\n",
       "    <tr>\n",
       "      <th>3332</th>\n",
       "      <td>3333</td>\n",
       "      <td>42</td>\n",
       "      <td>607</td>\n",
       "      <td>704000</td>\n",
       "      <td>2000</td>\n",
       "      <td>credit_card</td>\n",
       "      <td>2017-03-24 4:00:00</td>\n",
       "      <td>352.0</td>\n",
       "    </tr>\n",
       "    <tr>\n",
       "      <th>4056</th>\n",
       "      <td>4057</td>\n",
       "      <td>42</td>\n",
       "      <td>607</td>\n",
       "      <td>704000</td>\n",
       "      <td>2000</td>\n",
       "      <td>credit_card</td>\n",
       "      <td>2017-03-28 4:00:00</td>\n",
       "      <td>352.0</td>\n",
       "    </tr>\n",
       "    <tr>\n",
       "      <th>4646</th>\n",
       "      <td>4647</td>\n",
       "      <td>42</td>\n",
       "      <td>607</td>\n",
       "      <td>704000</td>\n",
       "      <td>2000</td>\n",
       "      <td>credit_card</td>\n",
       "      <td>2017-03-02 4:00:00</td>\n",
       "      <td>352.0</td>\n",
       "    </tr>\n",
       "    <tr>\n",
       "      <th>4868</th>\n",
       "      <td>4869</td>\n",
       "      <td>42</td>\n",
       "      <td>607</td>\n",
       "      <td>704000</td>\n",
       "      <td>2000</td>\n",
       "      <td>credit_card</td>\n",
       "      <td>2017-03-22 4:00:00</td>\n",
       "      <td>352.0</td>\n",
       "    </tr>\n",
       "    <tr>\n",
       "      <th>4882</th>\n",
       "      <td>4883</td>\n",
       "      <td>42</td>\n",
       "      <td>607</td>\n",
       "      <td>704000</td>\n",
       "      <td>2000</td>\n",
       "      <td>credit_card</td>\n",
       "      <td>2017-03-25 4:00:00</td>\n",
       "      <td>352.0</td>\n",
       "    </tr>\n",
       "  </tbody>\n",
       "</table>\n",
       "</div>"
      ],
      "text/plain": [
       "      order_id  shop_id  user_id  order_amount  total_items payment_method  \\\n",
       "15          16       42      607        704000         2000    credit_card   \n",
       "60          61       42      607        704000         2000    credit_card   \n",
       "520        521       42      607        704000         2000    credit_card   \n",
       "1104      1105       42      607        704000         2000    credit_card   \n",
       "1362      1363       42      607        704000         2000    credit_card   \n",
       "1436      1437       42      607        704000         2000    credit_card   \n",
       "1562      1563       42      607        704000         2000    credit_card   \n",
       "1602      1603       42      607        704000         2000    credit_card   \n",
       "2153      2154       42      607        704000         2000    credit_card   \n",
       "2297      2298       42      607        704000         2000    credit_card   \n",
       "2835      2836       42      607        704000         2000    credit_card   \n",
       "2969      2970       42      607        704000         2000    credit_card   \n",
       "3332      3333       42      607        704000         2000    credit_card   \n",
       "4056      4057       42      607        704000         2000    credit_card   \n",
       "4646      4647       42      607        704000         2000    credit_card   \n",
       "4868      4869       42      607        704000         2000    credit_card   \n",
       "4882      4883       42      607        704000         2000    credit_card   \n",
       "\n",
       "              created_at  item_value  \n",
       "15    2017-03-07 4:00:00       352.0  \n",
       "60    2017-03-04 4:00:00       352.0  \n",
       "520   2017-03-02 4:00:00       352.0  \n",
       "1104  2017-03-24 4:00:00       352.0  \n",
       "1362  2017-03-15 4:00:00       352.0  \n",
       "1436  2017-03-11 4:00:00       352.0  \n",
       "1562  2017-03-19 4:00:00       352.0  \n",
       "1602  2017-03-17 4:00:00       352.0  \n",
       "2153  2017-03-12 4:00:00       352.0  \n",
       "2297  2017-03-07 4:00:00       352.0  \n",
       "2835  2017-03-28 4:00:00       352.0  \n",
       "2969  2017-03-28 4:00:00       352.0  \n",
       "3332  2017-03-24 4:00:00       352.0  \n",
       "4056  2017-03-28 4:00:00       352.0  \n",
       "4646  2017-03-02 4:00:00       352.0  \n",
       "4868  2017-03-22 4:00:00       352.0  \n",
       "4882  2017-03-25 4:00:00       352.0  "
      ]
     },
     "execution_count": 30,
     "metadata": {},
     "output_type": "execute_result"
    }
   ],
   "source": [
    "#View all the orders that contains 2000 sneakers\n",
    "df[df['total_items']==2000]"
   ]
  },
  {
   "cell_type": "markdown",
   "id": "8a9349a1-003a-4c87-8250-670f17fcb11c",
   "metadata": {},
   "source": [
    "Based the table above, I know shop 42 is the only one shop that sells 2000 sneakers at once."
   ]
  },
  {
   "cell_type": "code",
   "execution_count": 31,
   "id": "cc58115f-2f74-4038-9d28-b3f5623f2119",
   "metadata": {},
   "outputs": [
    {
     "data": {
      "text/plain": [
       "2000    17\n",
       "1       15\n",
       "2       13\n",
       "3        3\n",
       "4        2\n",
       "5        1\n",
       "Name: total_items, dtype: int64"
      ]
     },
     "execution_count": 31,
     "metadata": {},
     "output_type": "execute_result"
    }
   ],
   "source": [
    "#Verify if shop 42 only deals with bigger sales\n",
    "df[df['shop_id']==42]['total_items'].value_counts()"
   ]
  },
  {
   "cell_type": "markdown",
   "id": "7ccdf3ed-5c18-4ae6-b254-c4238aab294d",
   "metadata": {},
   "source": [
    "It turns out that the shop 42 actually did small sales too."
   ]
  },
  {
   "cell_type": "code",
   "execution_count": 32,
   "id": "0f0fed8e-1793-421b-970d-e50c6e9a213a",
   "metadata": {},
   "outputs": [],
   "source": [
    "#the total sales amount made by orders that contains 2000 sneakers\n",
    "sales_2000 = df[df['total_items']==2000]['order_amount'].sum()"
   ]
  },
  {
   "cell_type": "code",
   "execution_count": 33,
   "id": "46eb7474-71d4-4de2-8c84-7e13130512bf",
   "metadata": {},
   "outputs": [
    {
     "data": {
      "text/plain": [
       "0.7610501067047192"
      ]
     },
     "execution_count": 33,
     "metadata": {},
     "output_type": "execute_result"
    }
   ],
   "source": [
    "# get the percentage of the 2000 sneakers orders out of total sales\n",
    "sales_2000/df['order_amount'].sum()"
   ]
  },
  {
   "cell_type": "markdown",
   "id": "97ca3457-2201-4858-9e92-3d31e8e28a38",
   "metadata": {},
   "source": [
    "The total sales amount made by orders that contains 2000 sneakers comprised 76% of the total sales."
   ]
  },
  {
   "cell_type": "code",
   "execution_count": 34,
   "id": "455cf2e5-176e-4e2a-9102-aab7aaf3d5dd",
   "metadata": {},
   "outputs": [
    {
     "data": {
      "text/plain": [
       "0.0034"
      ]
     },
     "execution_count": 34,
     "metadata": {},
     "output_type": "execute_result"
    }
   ],
   "source": [
    "df[df['total_items']==2000].shape[0]/df.shape[0]"
   ]
  },
  {
   "cell_type": "markdown",
   "id": "1e89d7c2-9190-43ca-a4f5-cb2e6ec23d77",
   "metadata": {},
   "source": [
    "The number of orders that contain 2000 sneakers makes up 0.34% of the total orders. \n",
    "\n",
    "This is another reason why the naive average order value can't represent the sales of sneakers.\n",
    "Without considering the item number in a order, the average order price is highly affected by the orders with 2000 sneakers."
   ]
  },
  {
   "cell_type": "markdown",
   "id": "ad87d4ba-eacb-4e26-8939-1e2f4e6c7ed6",
   "metadata": {},
   "source": [
    "#### b. What metric would you report for this dataset?"
   ]
  },
  {
   "cell_type": "markdown",
   "id": "b82eb603-f390-4911-9fe3-fd72a95b603a",
   "metadata": {},
   "source": [
    "The analysis of this dataset should offer comprehensive information about sneaker sales. Based on the analysis done so far, there are two main types of properties I want this metric to achieve:\n",
    "\n",
    "1. Should take into account bias due to high price outliers.\n",
    "2. Should capture the variance across number of items ordered."
   ]
  },
  {
   "cell_type": "markdown",
   "id": "a36e65f6-9238-4820-b1e9-ae460ff1c744",
   "metadata": {},
   "source": [
    "For the first point, using median value as a metric will alleviate bias due to the extreme high price sneakers, such as in the case of shop 78, which has the very large sneaker price of \\$25,725. Whereas the average value is greatly affected by this shop, the median value is affected far less. "
   ]
  },
  {
   "cell_type": "markdown",
   "id": "5600f4b9-0373-48dd-9c1b-d483efd3f7f9",
   "metadata": {},
   "source": [
    "For the second point, the previous analyses show a positive correlation between number of items ordered and the order price. I will now show some analysis based on item number that will give us a natural grouping with which to capture this variance:"
   ]
  },
  {
   "cell_type": "code",
   "execution_count": 35,
   "id": "5cbf647d-14e2-4bd1-84f1-3d37265dc2c3",
   "metadata": {},
   "outputs": [
    {
     "data": {
      "text/html": [
       "<div>\n",
       "<style scoped>\n",
       "    .dataframe tbody tr th:only-of-type {\n",
       "        vertical-align: middle;\n",
       "    }\n",
       "\n",
       "    .dataframe tbody tr th {\n",
       "        vertical-align: top;\n",
       "    }\n",
       "\n",
       "    .dataframe thead th {\n",
       "        text-align: right;\n",
       "    }\n",
       "</style>\n",
       "<table border=\"1\" class=\"dataframe\">\n",
       "  <thead>\n",
       "    <tr style=\"text-align: right;\">\n",
       "      <th></th>\n",
       "      <th>number of items</th>\n",
       "      <th>number of orders</th>\n",
       "    </tr>\n",
       "  </thead>\n",
       "  <tbody>\n",
       "    <tr>\n",
       "      <th>0</th>\n",
       "      <td>2</td>\n",
       "      <td>1832</td>\n",
       "    </tr>\n",
       "    <tr>\n",
       "      <th>1</th>\n",
       "      <td>1</td>\n",
       "      <td>1830</td>\n",
       "    </tr>\n",
       "    <tr>\n",
       "      <th>2</th>\n",
       "      <td>3</td>\n",
       "      <td>941</td>\n",
       "    </tr>\n",
       "    <tr>\n",
       "      <th>3</th>\n",
       "      <td>4</td>\n",
       "      <td>293</td>\n",
       "    </tr>\n",
       "    <tr>\n",
       "      <th>4</th>\n",
       "      <td>5</td>\n",
       "      <td>77</td>\n",
       "    </tr>\n",
       "    <tr>\n",
       "      <th>5</th>\n",
       "      <td>2000</td>\n",
       "      <td>17</td>\n",
       "    </tr>\n",
       "    <tr>\n",
       "      <th>6</th>\n",
       "      <td>6</td>\n",
       "      <td>9</td>\n",
       "    </tr>\n",
       "    <tr>\n",
       "      <th>7</th>\n",
       "      <td>8</td>\n",
       "      <td>1</td>\n",
       "    </tr>\n",
       "  </tbody>\n",
       "</table>\n",
       "</div>"
      ],
      "text/plain": [
       "   number of items  number of orders\n",
       "0                2              1832\n",
       "1                1              1830\n",
       "2                3               941\n",
       "3                4               293\n",
       "4                5                77\n",
       "5             2000                17\n",
       "6                6                 9\n",
       "7                8                 1"
      ]
     },
     "execution_count": 35,
     "metadata": {},
     "output_type": "execute_result"
    }
   ],
   "source": [
    "#get the number of orders with different total item number\n",
    "df['total_items'].value_counts().reset_index().rename(columns={'index':'number of items','total_items':'number of orders'})"
   ]
  },
  {
   "cell_type": "code",
   "execution_count": 36,
   "id": "064aa7a6-8986-42b0-98ea-76332327e096",
   "metadata": {},
   "outputs": [
    {
     "data": {
      "text/html": [
       "<div>\n",
       "<style scoped>\n",
       "    .dataframe tbody tr th:only-of-type {\n",
       "        vertical-align: middle;\n",
       "    }\n",
       "\n",
       "    .dataframe tbody tr th {\n",
       "        vertical-align: top;\n",
       "    }\n",
       "\n",
       "    .dataframe thead th {\n",
       "        text-align: right;\n",
       "    }\n",
       "</style>\n",
       "<table border=\"1\" class=\"dataframe\">\n",
       "  <thead>\n",
       "    <tr style=\"text-align: right;\">\n",
       "      <th></th>\n",
       "      <th>number of items</th>\n",
       "      <th>number of orders</th>\n",
       "    </tr>\n",
       "  </thead>\n",
       "  <tbody>\n",
       "    <tr>\n",
       "      <th>0</th>\n",
       "      <td>2</td>\n",
       "      <td>0.3664</td>\n",
       "    </tr>\n",
       "    <tr>\n",
       "      <th>1</th>\n",
       "      <td>1</td>\n",
       "      <td>0.3660</td>\n",
       "    </tr>\n",
       "    <tr>\n",
       "      <th>2</th>\n",
       "      <td>3</td>\n",
       "      <td>0.1882</td>\n",
       "    </tr>\n",
       "    <tr>\n",
       "      <th>3</th>\n",
       "      <td>4</td>\n",
       "      <td>0.0586</td>\n",
       "    </tr>\n",
       "    <tr>\n",
       "      <th>4</th>\n",
       "      <td>5</td>\n",
       "      <td>0.0154</td>\n",
       "    </tr>\n",
       "    <tr>\n",
       "      <th>5</th>\n",
       "      <td>2000</td>\n",
       "      <td>0.0034</td>\n",
       "    </tr>\n",
       "    <tr>\n",
       "      <th>6</th>\n",
       "      <td>6</td>\n",
       "      <td>0.0018</td>\n",
       "    </tr>\n",
       "    <tr>\n",
       "      <th>7</th>\n",
       "      <td>8</td>\n",
       "      <td>0.0002</td>\n",
       "    </tr>\n",
       "  </tbody>\n",
       "</table>\n",
       "</div>"
      ],
      "text/plain": [
       "   number of items  number of orders\n",
       "0                2            0.3664\n",
       "1                1            0.3660\n",
       "2                3            0.1882\n",
       "3                4            0.0586\n",
       "4                5            0.0154\n",
       "5             2000            0.0034\n",
       "6                6            0.0018\n",
       "7                8            0.0002"
      ]
     },
     "execution_count": 36,
     "metadata": {},
     "output_type": "execute_result"
    }
   ],
   "source": [
    "df['total_items'].value_counts(normalize=True).reset_index().rename(columns={'index':'number of items','total_items':'number of orders'})"
   ]
  },
  {
   "cell_type": "markdown",
   "id": "29c4dc64-a4d7-4632-8dd0-0d23b322c417",
   "metadata": {},
   "source": [
    "From the tables above, I know most orders contain 1 or 2 sneakers. They both make up 36% of orders, followed by orders of 3 sneakers which comprise 18%, and orders of 4 which comprise 5%. Since the orders containing 5, 6, or 8 sneakers make up less than 2% together, I combine them into a single bin. Orders with 2000 sneakers are the last grouping and make up the extreme cases, 0.34% of cases total."
   ]
  },
  {
   "cell_type": "markdown",
   "id": "a49401ce-78df-41cf-882a-e3c08d50be48",
   "metadata": {},
   "source": [
    "#### c. What is its value?"
   ]
  },
  {
   "cell_type": "markdown",
   "id": "b0d58d20-b097-4c13-bd74-a474bc3c4619",
   "metadata": {},
   "source": [
    "I now will calculate the median value across the groups. This requires some data preprocessing:"
   ]
  },
  {
   "cell_type": "code",
   "execution_count": 37,
   "id": "e3b27c48-bbd4-45e9-8e20-f6200075dbec",
   "metadata": {},
   "outputs": [],
   "source": [
    "#change the columns data type\n",
    "df['total_items']=df['total_items'].astype('string')"
   ]
  },
  {
   "cell_type": "code",
   "execution_count": 38,
   "id": "c9f8c062-4d0d-46a6-9a7e-ef138161f270",
   "metadata": {},
   "outputs": [],
   "source": [
    "# Get row conditions for total items equal to 5,6, or 8.\n",
    "conditions = (df['total_items'] == '5')|(df['total_items'] == '6')|(df['total_items'] == '8')"
   ]
  },
  {
   "cell_type": "code",
   "execution_count": 39,
   "id": "d62fea16-8af8-4d45-8f05-e3d23aba6f15",
   "metadata": {},
   "outputs": [],
   "source": [
    "#change the orders with 5~8 sneakers as '5~8'\n",
    "df.loc[conditions,'total_items'] = '5~8'"
   ]
  },
  {
   "cell_type": "code",
   "execution_count": 40,
   "id": "10b40e25-564a-4343-ba67-2749e5d10641",
   "metadata": {},
   "outputs": [
    {
     "data": {
      "text/plain": [
       "2       1832\n",
       "1       1830\n",
       "3        941\n",
       "4        293\n",
       "5~8       87\n",
       "2000      17\n",
       "Name: total_items, dtype: Int64"
      ]
     },
     "execution_count": 40,
     "metadata": {},
     "output_type": "execute_result"
    }
   ],
   "source": [
    "#verify the change I did\n",
    "df['total_items'].value_counts()"
   ]
  },
  {
   "cell_type": "code",
   "execution_count": 41,
   "id": "11ac1f5d-0453-4622-a45c-6abb41503d03",
   "metadata": {},
   "outputs": [
    {
     "data": {
      "text/html": [
       "<div>\n",
       "<style scoped>\n",
       "    .dataframe tbody tr th:only-of-type {\n",
       "        vertical-align: middle;\n",
       "    }\n",
       "\n",
       "    .dataframe tbody tr th {\n",
       "        vertical-align: top;\n",
       "    }\n",
       "\n",
       "    .dataframe thead th {\n",
       "        text-align: right;\n",
       "    }\n",
       "</style>\n",
       "<table border=\"1\" class=\"dataframe\">\n",
       "  <thead>\n",
       "    <tr style=\"text-align: right;\">\n",
       "      <th></th>\n",
       "      <th>total_items</th>\n",
       "      <th>median</th>\n",
       "    </tr>\n",
       "  </thead>\n",
       "  <tbody>\n",
       "    <tr>\n",
       "      <th>0</th>\n",
       "      <td>1</td>\n",
       "      <td>153.0</td>\n",
       "    </tr>\n",
       "    <tr>\n",
       "      <th>1</th>\n",
       "      <td>2</td>\n",
       "      <td>306.0</td>\n",
       "    </tr>\n",
       "    <tr>\n",
       "      <th>2</th>\n",
       "      <td>3</td>\n",
       "      <td>459.0</td>\n",
       "    </tr>\n",
       "    <tr>\n",
       "      <th>3</th>\n",
       "      <td>4</td>\n",
       "      <td>592.0</td>\n",
       "    </tr>\n",
       "    <tr>\n",
       "      <th>4</th>\n",
       "      <td>5~8</td>\n",
       "      <td>774.0</td>\n",
       "    </tr>\n",
       "    <tr>\n",
       "      <th>5</th>\n",
       "      <td>2000</td>\n",
       "      <td>704000.0</td>\n",
       "    </tr>\n",
       "  </tbody>\n",
       "</table>\n",
       "</div>"
      ],
      "text/plain": [
       "  total_items    median\n",
       "0           1     153.0\n",
       "1           2     306.0\n",
       "2           3     459.0\n",
       "3           4     592.0\n",
       "4         5~8     774.0\n",
       "5        2000  704000.0"
      ]
     },
     "execution_count": 41,
     "metadata": {},
     "output_type": "execute_result"
    }
   ],
   "source": [
    "df_summary = df.groupby('total_items')['order_amount'].agg(['median']).sort_values('median').reset_index()\n",
    "df_summary"
   ]
  },
  {
   "cell_type": "markdown",
   "id": "413d3a69-e3a7-4405-8122-5337197df62c",
   "metadata": {},
   "source": [
    "The table above succinctly describes the sales of sneakers comprehensively.\n",
    "\n",
    "For orders with 1 sneaker, the median order value is 153 dollars.\n",
    "For orders with 2 sneakers, the median order value is 306 dollars.\n",
    "For orders within the range 5 to 8 sneakers, the median value is 774 dollars.\n",
    "Last, for orders wih 2000 sneakers, the median value is 704,000 dollars.\n",
    "\n",
    "We can see the clear variance across groups and, because we're calculating the median, outliers within the groups do not add strong bias to the metrics."
   ]
  },
  {
   "cell_type": "markdown",
   "id": "62573698-85dd-43f6-89d1-7cbb6db62377",
   "metadata": {},
   "source": [
    "***"
   ]
  },
  {
   "cell_type": "markdown",
   "id": "b18c2f50-94b8-453d-9380-b54ac1a34722",
   "metadata": {},
   "source": [
    "The table above is meant to be a succinct summary of the order sales. This would be best for high-level presentations, sharing with stakeholders, etc. \n",
    "\n",
    "For more technical detail, the standard deviation and percentile sale values could be used to precisely describe the distribution of the sales within the groups."
   ]
  },
  {
   "cell_type": "code",
   "execution_count": 42,
   "id": "b645cf27-09d7-4885-a4ac-c0e2f78bd9a3",
   "metadata": {},
   "outputs": [],
   "source": [
    "# percentile function for passing to agg method:\n",
    "def percentile(n):\n",
    "    def percentile_(x):\n",
    "        return np.percentile(x, n)\n",
    "    percentile_.__name__ = 'percentile_%s' % n\n",
    "    return percentile_"
   ]
  },
  {
   "cell_type": "code",
   "execution_count": 47,
   "id": "cd04c173-8f48-4217-9608-531190cae325",
   "metadata": {},
   "outputs": [],
   "source": [
    "df_summary_detailed = df.groupby('total_items')['order_amount'].agg(['median', 'std', \n",
    "                                                                     percentile(1),  percentile(25), percentile(50), percentile(75), percentile(99)]).sort_values('median').reset_index()\n",
    "\n",
    "df_summary_detailed = df_summary_detailed.append(pd.DataFrame([['All items', np.median(df['order_amount']), np.std(df['order_amount']),\n",
    "                                          *[percentile(x)(df['order_amount']) for x in [5, 25, 50, 75, 95]]]], \n",
    "                                                                             columns = df_summary_detailed.columns))"
   ]
  },
  {
   "cell_type": "code",
   "execution_count": 48,
   "id": "50036b53-4287-4ea1-ace5-ec27feb7f050",
   "metadata": {},
   "outputs": [
    {
     "data": {
      "text/html": [
       "<div>\n",
       "<style scoped>\n",
       "    .dataframe tbody tr th:only-of-type {\n",
       "        vertical-align: middle;\n",
       "    }\n",
       "\n",
       "    .dataframe tbody tr th {\n",
       "        vertical-align: top;\n",
       "    }\n",
       "\n",
       "    .dataframe thead th {\n",
       "        text-align: right;\n",
       "    }\n",
       "</style>\n",
       "<table border=\"1\" class=\"dataframe\">\n",
       "  <thead>\n",
       "    <tr style=\"text-align: right;\">\n",
       "      <th></th>\n",
       "      <th>total_items</th>\n",
       "      <th>median</th>\n",
       "      <th>std</th>\n",
       "      <th>percentile_1</th>\n",
       "      <th>percentile_25</th>\n",
       "      <th>percentile_50</th>\n",
       "      <th>percentile_75</th>\n",
       "      <th>percentile_99</th>\n",
       "    </tr>\n",
       "  </thead>\n",
       "  <tbody>\n",
       "    <tr>\n",
       "      <th>0</th>\n",
       "      <td>1</td>\n",
       "      <td>153.0</td>\n",
       "      <td>2593.090627</td>\n",
       "      <td>94.00</td>\n",
       "      <td>132.0</td>\n",
       "      <td>153.0</td>\n",
       "      <td>169.0</td>\n",
       "      <td>18366.83</td>\n",
       "    </tr>\n",
       "    <tr>\n",
       "      <th>1</th>\n",
       "      <td>2</td>\n",
       "      <td>306.0</td>\n",
       "      <td>4760.572162</td>\n",
       "      <td>182.48</td>\n",
       "      <td>264.0</td>\n",
       "      <td>306.0</td>\n",
       "      <td>336.0</td>\n",
       "      <td>704.00</td>\n",
       "    </tr>\n",
       "    <tr>\n",
       "      <th>2</th>\n",
       "      <td>3</td>\n",
       "      <td>459.0</td>\n",
       "      <td>7471.160149</td>\n",
       "      <td>282.00</td>\n",
       "      <td>402.0</td>\n",
       "      <td>459.0</td>\n",
       "      <td>504.0</td>\n",
       "      <td>1056.00</td>\n",
       "    </tr>\n",
       "    <tr>\n",
       "      <th>3</th>\n",
       "      <td>4</td>\n",
       "      <td>592.0</td>\n",
       "      <td>5977.632918</td>\n",
       "      <td>374.72</td>\n",
       "      <td>520.0</td>\n",
       "      <td>592.0</td>\n",
       "      <td>660.0</td>\n",
       "      <td>852.32</td>\n",
       "    </tr>\n",
       "    <tr>\n",
       "      <th>4</th>\n",
       "      <td>5~8</td>\n",
       "      <td>774.0</td>\n",
       "      <td>16465.778536</td>\n",
       "      <td>467.20</td>\n",
       "      <td>690.0</td>\n",
       "      <td>774.0</td>\n",
       "      <td>837.5</td>\n",
       "      <td>23122.60</td>\n",
       "    </tr>\n",
       "    <tr>\n",
       "      <th>5</th>\n",
       "      <td>2000</td>\n",
       "      <td>704000.0</td>\n",
       "      <td>0.000000</td>\n",
       "      <td>704000.00</td>\n",
       "      <td>704000.0</td>\n",
       "      <td>704000.0</td>\n",
       "      <td>704000.0</td>\n",
       "      <td>704000.00</td>\n",
       "    </tr>\n",
       "    <tr>\n",
       "      <th>0</th>\n",
       "      <td>All items</td>\n",
       "      <td>284.0</td>\n",
       "      <td>41278.410888</td>\n",
       "      <td>122.00</td>\n",
       "      <td>163.0</td>\n",
       "      <td>284.0</td>\n",
       "      <td>390.0</td>\n",
       "      <td>640.00</td>\n",
       "    </tr>\n",
       "  </tbody>\n",
       "</table>\n",
       "</div>"
      ],
      "text/plain": [
       "  total_items    median           std  percentile_1  percentile_25  \\\n",
       "0           1     153.0   2593.090627         94.00          132.0   \n",
       "1           2     306.0   4760.572162        182.48          264.0   \n",
       "2           3     459.0   7471.160149        282.00          402.0   \n",
       "3           4     592.0   5977.632918        374.72          520.0   \n",
       "4         5~8     774.0  16465.778536        467.20          690.0   \n",
       "5        2000  704000.0      0.000000     704000.00       704000.0   \n",
       "0   All items     284.0  41278.410888        122.00          163.0   \n",
       "\n",
       "   percentile_50  percentile_75  percentile_99  \n",
       "0          153.0          169.0       18366.83  \n",
       "1          306.0          336.0         704.00  \n",
       "2          459.0          504.0        1056.00  \n",
       "3          592.0          660.0         852.32  \n",
       "4          774.0          837.5       23122.60  \n",
       "5       704000.0       704000.0      704000.00  \n",
       "0          284.0          390.0         640.00  "
      ]
     },
     "execution_count": 48,
     "metadata": {},
     "output_type": "execute_result"
    }
   ],
   "source": [
    "df_summary_detailed"
   ]
  },
  {
   "cell_type": "markdown",
   "id": "4153f7f2-fa3f-4e17-acb8-87ca1b6c1025",
   "metadata": {},
   "source": [
    "This gives us more detailed information about the groups, should we want to analyze them further. For instance, we can see that, in the first row, the large single orders greater than 18,000 dollars from shop 78 show up in the 99th percentile. We also see that there is no variance in the 2000 item orders group due to all of these orders coming from the same shop.\n",
    "\n",
    "Additionally, by looking at the last row, \"All Items\", we can see the importance of grouping by total items: the statistics for this row mostly reflect the orders with just 1 or 2 items.\n",
    "\n",
    "***"
   ]
  },
  {
   "cell_type": "markdown",
   "id": "6dc85ec4-9d7d-4308-b908-9e11c38238db",
   "metadata": {},
   "source": [
    "### Question 2:\n",
    "For this question you’ll need to use SQL. Follow this link to access the data set required for the challenge. Please use queries to answer the following questions. Paste your queries along with your final numerical answers below."
   ]
  },
  {
   "cell_type": "markdown",
   "id": "e42d2f17-a43b-4710-bfb4-3af33e5568e1",
   "metadata": {},
   "source": [
    "a. How many orders were shipped by Speedy Express in total?"
   ]
  },
  {
   "cell_type": "code",
   "execution_count": null,
   "id": "ac4ddf92-0a5a-4684-bafe-bdc07e2abf1d",
   "metadata": {},
   "outputs": [],
   "source": [
    "select count(*) as total_orders_by_SpeedyExpress\n",
    "from Orders\n",
    "where ShipperID in (select ShipperID from Shippers where ShipperName = 'Speedy Express')"
   ]
  },
  {
   "cell_type": "markdown",
   "id": "79ba944b-5ab1-4f5b-9ea4-9eccf7a14ad5",
   "metadata": {},
   "source": [
    "There are 54 orders shipped by Speedy Express."
   ]
  },
  {
   "cell_type": "markdown",
   "id": "e4ec84f8-6529-4bd3-bfa9-d6d8e8810dfa",
   "metadata": {},
   "source": [
    "b. What is the last name of the employee with the most orders?"
   ]
  },
  {
   "cell_type": "code",
   "execution_count": null,
   "id": "358ef6c9-2664-496c-a77f-17ac49da5107",
   "metadata": {},
   "outputs": [],
   "source": [
    "select LastName\n",
    "from Employees e join\n",
    "  (select EmployeeID,count(OrderID) \n",
    "  from Orders\n",
    "  group by EmployeeID\n",
    "  order by count(OrderID) desc\n",
    "  limit 1) t on e.EmployeeID = t.EmployeeID"
   ]
  },
  {
   "cell_type": "markdown",
   "id": "4c04fa8c-8600-4b7f-8318-6cab700dd8d6",
   "metadata": {},
   "source": [
    "The last name of the employee with the most orders is \"Peacock\"."
   ]
  },
  {
   "cell_type": "markdown",
   "id": "09651b21-e31c-4d7f-abc5-9ca36e52749e",
   "metadata": {},
   "source": [
    "c. What product was ordered most by customers in Germany?"
   ]
  },
  {
   "cell_type": "code",
   "execution_count": null,
   "id": "d0d2bea3-c1e2-4e8f-accc-f2c436971907",
   "metadata": {},
   "outputs": [],
   "source": [
    "select p.ProductName,count(p.ProductName) as Num_orders\n",
    "from Orders o join \n",
    "  (select CustomerId\n",
    "  from Customers\n",
    "  where Country = 'Germany') t on o.CustomerId = t.CustomerID\n",
    "  join Orderdetails d on d.OrderID = o.OrderID\n",
    "  join Products p on d.ProductID = p.ProductID\n",
    "group by p.productID, p.ProductName\n",
    "order by count(p.ProductName) desc\n",
    "limit 1"
   ]
  },
  {
   "cell_type": "markdown",
   "id": "f44702a9-f760-41dc-8f80-ddbefc826ed3",
   "metadata": {},
   "source": [
    "Gorgonzola Telino was ordered 5 times by customers in Germany, which makes it the most ordered product in Germany."
   ]
  },
  {
   "cell_type": "markdown",
   "id": "d9c9ed92-6586-4016-99e1-40aaabeac142",
   "metadata": {},
   "source": [
    "If the company cares about the _quantity_ of the products ordered, then the SQL could be written like this."
   ]
  },
  {
   "cell_type": "code",
   "execution_count": null,
   "id": "d33951c5-1752-4138-8d74-f0c614782756",
   "metadata": {},
   "outputs": [],
   "source": [
    "select p.ProductName,sum(d.quantity) as Num_orders\n",
    "from Orders o join \n",
    "  (select CustomerId\n",
    "  from Customers\n",
    "  where Country = 'Germany') t on o.CustomerId = t.CustomerID\n",
    "  join Orderdetails d on d.OrderID = o.OrderID\n",
    "  join Products p on d.ProductID = p.ProductID\n",
    "group by p.productID, p.ProductName\n",
    "order by sum(d.quantity) desc\n",
    "limit 1"
   ]
  },
  {
   "cell_type": "markdown",
   "id": "4bdf8196-c40a-4949-8115-2d618372268a",
   "metadata": {},
   "source": [
    "Boston Crab Meat was ordered 160 times, which makes it the most ordered item in Germany."
   ]
  },
  {
   "cell_type": "code",
   "execution_count": null,
   "id": "076a81e2-cb8a-4141-b92c-464beaf24283",
   "metadata": {},
   "outputs": [],
   "source": []
  }
 ],
 "metadata": {
  "kernelspec": {
   "display_name": "Python 3 (ipykernel)",
   "language": "python",
   "name": "python3"
  },
  "language_info": {
   "codemirror_mode": {
    "name": "ipython",
    "version": 3
   },
   "file_extension": ".py",
   "mimetype": "text/x-python",
   "name": "python",
   "nbconvert_exporter": "python",
   "pygments_lexer": "ipython3",
   "version": "3.9.7"
  }
 },
 "nbformat": 4,
 "nbformat_minor": 5
}
